{
  "nbformat": 4,
  "nbformat_minor": 0,
  "metadata": {
    "colab": {
      "name": "Preclasswork6.2.ipynb",
      "provenance": []
    },
    "kernelspec": {
      "name": "python3",
      "display_name": "Python 3"
    }
  },
  "cells": [
    {
      "cell_type": "code",
      "metadata": {
        "id": "bWntY9QzD37J",
        "colab_type": "code",
        "colab": {
          "base_uri": "https://localhost:8080/",
          "height": 51
        },
        "outputId": "d174a9cc-e307-4b2c-f320-8c210fda4512"
      },
      "source": [
        "!pip3 install networkx"
      ],
      "execution_count": 3,
      "outputs": [
        {
          "output_type": "stream",
          "text": [
            "Requirement already satisfied: networkx in /usr/local/lib/python3.6/dist-packages (2.4)\n",
            "Requirement already satisfied: decorator>=4.3.0 in /usr/local/lib/python3.6/dist-packages (from networkx) (4.4.2)\n"
          ],
          "name": "stdout"
        }
      ]
    },
    {
      "cell_type": "code",
      "metadata": {
        "id": "s8lwsRQKDuh6",
        "colab_type": "code",
        "colab": {}
      },
      "source": [
        "import matplotlib\n",
        "matplotlib.use('TkAgg')\n",
        "from pylab import *\n",
        "import networkx as nx\n",
        "import random as rd\n",
        "\n",
        "def initialize():\n",
        "    global g\n",
        "    g = nx.karate_club_graph()\n",
        "    g.pos = nx.spring_layout(g)\n",
        "    for i in g.nodes:\n",
        "        g.nodes[i]['state'] = 1 if random() < .5 else 0\n",
        "\n",
        "def observe():\n",
        "    global g\n",
        "    cla()\n",
        "    nx.draw(g, vmin = 0, vmax = 1,\n",
        "            node_color = [g.nodes[i]['state'] for i in g.nodes],\n",
        "            pos = g.pos)\n",
        "\n",
        "def update():\n",
        "    global g\n",
        "    listener = rd.choice(list(g.nodes))\n",
        "    speaker = rd.choice(list(g.neighbors(listener)))\n",
        "    g.nodes[listener]['state'] = g.nodes[speaker]['state']\n",
        "\n",
        "#New update function for the reversed rule\n",
        "def update_reversed():\n",
        "    global g\n",
        "    speaker = rd.choice(list(g.nodes))\n",
        "    listener = rd.choice(list(g.neighbors(speaker)))\n",
        "    g.nodes[listener]['state'] = g.nodes[speaker]['state']\n",
        "\n",
        "def update_edge():\n",
        "    global g\n",
        "    edge = rd.choice(list(g.edges))\n",
        "    if random() < .5:\n",
        "      speaker, listener = edge[0], edge[1] \n",
        "    else:\n",
        "      speaker, listener = edge[1], edge[0]\n",
        "    g.nodes[listener]['state'] = g.nodes[speaker]['state']"
      ],
      "execution_count": 0,
      "outputs": []
    },
    {
      "cell_type": "code",
      "metadata": {
        "id": "CCQxo59RDx-P",
        "colab_type": "code",
        "colab": {}
      },
      "source": [
        "def simulation(update_function):\n",
        "  initialize()\n",
        "  c = 0\n",
        "  while not (all([g.nodes[i]['state'] == 1 for i in g.nodes]) or all([g.nodes[i]['state'] == 0 for i in g.nodes])):\n",
        "    update_function()\n",
        "    c += 1\n",
        "  return c\n"
      ],
      "execution_count": 0,
      "outputs": []
    },
    {
      "cell_type": "code",
      "metadata": {
        "id": "DroUCBYVFYLm",
        "colab_type": "code",
        "colab": {}
      },
      "source": [
        "#Running the simulation\n",
        "sim_results=[]\n",
        "for i in range(5000):\n",
        "  sim_results.append(simulation(update))"
      ],
      "execution_count": 0,
      "outputs": []
    },
    {
      "cell_type": "code",
      "metadata": {
        "id": "O5abp4kPI6GM",
        "colab_type": "code",
        "colab": {
          "base_uri": "https://localhost:8080/",
          "height": 51
        },
        "outputId": "ff9c3f11-a9d5-46e7-fdb2-068b3cd4f830"
      },
      "source": [
        "#Printing the results. On average we get a homogeneous state after 606 steps\n",
        "print(np.mean(sim_results))\n",
        "print(np.percentile(sim_results, (2.5, 97.5)))"
      ],
      "execution_count": 88,
      "outputs": [
        {
          "output_type": "stream",
          "text": [
            "606.9126\n",
            "[ 112.975 1866.025]\n"
          ],
          "name": "stdout"
        }
      ]
    },
    {
      "cell_type": "code",
      "metadata": {
        "id": "_fTI_1nSH72S",
        "colab_type": "code",
        "colab": {
          "base_uri": "https://localhost:8080/",
          "height": 351
        },
        "outputId": "733d9ded-aa95-4f2c-8efb-05f985598aac"
      },
      "source": [
        "#Plotting the histogram\n",
        "plt.hist(sim_results)"
      ],
      "execution_count": 89,
      "outputs": [
        {
          "output_type": "execute_result",
          "data": {
            "text/plain": [
              "(array([2.423e+03, 1.566e+03, 5.940e+02, 2.380e+02, 1.050e+02, 4.000e+01,\n",
              "        2.300e+01, 7.000e+00, 3.000e+00, 1.000e+00]),\n",
              " array([  45. ,  460.5,  876. , 1291.5, 1707. , 2122.5, 2538. , 2953.5,\n",
              "        3369. , 3784.5, 4200. ]),\n",
              " <a list of 10 Patch objects>)"
            ]
          },
          "metadata": {
            "tags": []
          },
          "execution_count": 89
        },
        {
          "output_type": "display_data",
          "data": {
            "image/png": "[encoded data removed]",
            "text/plain": [
              "<Figure size 432x288 with 1 Axes>"
            ]
          },
          "metadata": {
            "tags": [],
            "needs_background": "light"
          }
        }
      ]
    },
    {
      "cell_type": "code",
      "metadata": {
        "id": "o07_JCa8JCfO",
        "colab_type": "code",
        "colab": {
          "base_uri": "https://localhost:8080/",
          "height": 51
        },
        "outputId": "81cac22a-b542-4a83-8567-6672803d1bd8"
      },
      "source": [
        "#When reversed it takes a lot longer so I ran it less times\n",
        "\n",
        "sim_reversed_results=[]\n",
        "for i in range(100):\n",
        "  sim_reversed_results.append(simulation(update_reversed))\n",
        "\n",
        "print(np.mean(sim_reversed_results))\n",
        "print(np.percentile(sim_reversed_results, (2.5, 97.5)))"
      ],
      "execution_count": 100,
      "outputs": [
        {
          "output_type": "stream",
          "text": [
            "2985.25\n",
            "[ 376.875 8020.   ]\n"
          ],
          "name": "stdout"
        }
      ]
    },
    {
      "cell_type": "code",
      "metadata": {
        "id": "_5oD47mWQ_nD",
        "colab_type": "code",
        "colab": {
          "base_uri": "https://localhost:8080/",
          "height": 350
        },
        "outputId": "7f5c2993-7d47-438c-b66c-6803a5dff432"
      },
      "source": [
        "plt.hist(sim_results)"
      ],
      "execution_count": 101,
      "outputs": [
        {
          "output_type": "execute_result",
          "data": {
            "text/plain": [
              "(array([5.468e+03, 5.840e+02, 2.960e+02, 1.310e+02, 7.300e+01, 4.000e+01,\n",
              "        2.000e+01, 8.000e+00, 4.000e+00, 2.000e+00]),\n",
              " array([   45. ,  1991.5,  3938. ,  5884.5,  7831. ,  9777.5, 11724. ,\n",
              "        13670.5, 15617. , 17563.5, 19510. ]),\n",
              " <a list of 10 Patch objects>)"
            ]
          },
          "metadata": {
            "tags": []
          },
          "execution_count": 101
        },
        {
          "output_type": "display_data",
          "data": {
            "image/png": "[encoded data removed]",
            "text/plain": [
              "<Figure size 432x288 with 1 Axes>"
            ]
          },
          "metadata": {
            "tags": [],
            "needs_background": "light"
          }
        }
      ]
    },
    {
      "cell_type": "code",
      "metadata": {
        "id": "ODrfnofOT_O3",
        "colab_type": "code",
        "colab": {
          "base_uri": "https://localhost:8080/",
          "height": 51
        },
        "outputId": "671c035a-83c1-42b9-c336-d5e890dde4c6"
      },
      "source": [
        "#Updates based on edge selection\n",
        "\n",
        "sim_edge_results=[]\n",
        "for i in range(100):\n",
        "  sim_edge_results.append(simulation(update_edge))\n",
        "\n",
        "print(np.mean(sim_edge_results))\n",
        "print(np.percentile(sim_edge_results, (2.5, 97.5)))"
      ],
      "execution_count": 126,
      "outputs": [
        {
          "output_type": "stream",
          "text": [
            "1009.9\n",
            "[ 194.475 3051.275]\n"
          ],
          "name": "stdout"
        }
      ]
    },
    {
      "cell_type": "code",
      "metadata": {
        "id": "CPaG37G9VbMb",
        "colab_type": "code",
        "colab": {
          "base_uri": "https://localhost:8080/",
          "height": 350
        },
        "outputId": "3f00cd45-23c2-46e2-fdc2-d60a86086391"
      },
      "source": [
        "plt.hist(sim_results)"
      ],
      "execution_count": 127,
      "outputs": [
        {
          "output_type": "execute_result",
          "data": {
            "text/plain": [
              "(array([5.468e+03, 5.840e+02, 2.960e+02, 1.310e+02, 7.300e+01, 4.000e+01,\n",
              "        2.000e+01, 8.000e+00, 4.000e+00, 2.000e+00]),\n",
              " array([   45. ,  1991.5,  3938. ,  5884.5,  7831. ,  9777.5, 11724. ,\n",
              "        13670.5, 15617. , 17563.5, 19510. ]),\n",
              " <a list of 10 Patch objects>)"
            ]
          },
          "metadata": {
            "tags": []
          },
          "execution_count": 127
        },
        {
          "output_type": "display_data",
          "data": {
            "image/png": "[encoded data removed]",
            "text/plain": [
              "<Figure size 432x288 with 1 Axes>"
            ]
          },
          "metadata": {
            "tags": [],
            "needs_background": "light"
          }
        }
      ]
    },
    {
      "cell_type": "code",
      "metadata": {
        "id": "6PyQ0sv4V3iO",
        "colab_type": "code",
        "colab": {}
      },
      "source": [
        ""
      ],
      "execution_count": 0,
      "outputs": []
    }
  ]
}