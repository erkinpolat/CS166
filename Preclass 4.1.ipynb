{
 "cells": [
  {
   "cell_type": "code",
   "execution_count": 3,
   "metadata": {
    "collapsed": false
   },
   "outputs": [
   ],
   "source": [
    "interactive = False  # Set this variable to True to run an interactive\n",
    "                     # simulator. This will not work on CoCalc.\n",
    "\n",
    "import matplotlib\n",
    "if interactive:\n",
    "    matplotlib.use('TkAgg')\n",
    "\n",
    "import pylab\n",
    "import random\n",
    "import numpy as np"
   ]
  },
  {
   "cell_type": "code",
   "execution_count": 14,
   "metadata": {
    "collapsed": false
   },
   "outputs": [
   ],
   "source": [
    "class TrafficSimulator(object):\n",
    "\n",
    "\n",
    "    def __init__(self, length=50, density=0.2, interactive=False, max_velocity = 5, p = None):\n",
    "        '''\n",
    "        Initialize new TrafficSimulator objects with the default parameter\n",
    "        settings.\n",
    "\n",
    "        Inputs:\n",
    "\n",
    "         * length (int) The number of cells in the cellular automaton.\n",
    "           Default: 50.\n",
    "\n",
    "         * density (float) The proportion of cells that will be active (contain\n",
    "           a car) when the cellular automaton is initialized. The active cells\n",
    "           will be at random locations along the length of the CA. Default: 0.2.\n",
    "\n",
    "         * interactive (bool) Whether or not we are running an interactive\n",
    "           simulation. In CoCalc we have to run in non-interactive mode (False),\n",
    "           but in your local Python environment you should be able to run in\n",
    "           interactive mode (True). Default: False.\n",
    "\n",
    "        '''\n",
    "        self.interactive = interactive\n",
    "        self.length = length\n",
    "        self.density = density\n",
    "        self.max_velocity = max_velocity\n",
    "        self.p = p\n",
    "\n",
    "        # Arrays for storing the current state and the next state (when we are\n",
    "        # busy doing a state update).\n",
    "        self.current_state = np.zeros(self.length)\n",
    "        self.next_state = np.zeros(self.length)\n",
    "\n",
    "    def initialize(self):\n",
    "        '''\n",
    "        This will be called by the interactive pycxsimulator whenever the Reset\n",
    "        button is clicked.\n",
    "        '''\n",
    "        # Set up a random initial state where the fraction of 1s in the array\n",
    "        # equals the density parameter.\n",
    "        random_indices = np.random.choice(\n",
    "            range(self.length),\n",
    "            size=int(round(self.density * self.length)),\n",
    "            replace=False)\n",
    "        self.current_state.fill(-1)\n",
    "        self.current_state[random_indices] = 0\n",
    "\n",
    "        self.time = 0\n",
    "\n",
    "    def draw(self):\n",
    "        '''\n",
    "        Draw the current state of the cellular automaton.\n",
    "        '''\n",
    "        if self.interactive:\n",
    "            pylab.cla()  # Clear the current figure\n",
    "        else:\n",
    "            pylab.figure()  # Create a new figure\n",
    "        pylab.pcolor(\n",
    "            self.current_state.reshape((1, self.length)),\n",
    "            vmin = 0,\n",
    "            vmax = 1,\n",
    "            cmap = pylab.cm.binary)\n",
    "        pylab.axis('image')\n",
    "        pylab.title('density = ' + str(self.density) + '; t = ' + str(self.time))\n",
    "        if not self.interactive:\n",
    "            pylab.show()\n",
    "\n",
    "    def step(self):\n",
    "        '''\n",
    "        Update the state of the cellular automaton.\n",
    "        '''\n",
    "        # Update all cells, except the boundaries.\n",
    "        for i in range(1, self.length - 1):\n",
    "            if self.current_state[i] != -1:\n",
    "                if self.current_state[i] < self.max_velocity:\n",
    "                    self.current_state[i] += 1\n",
    "                for j in range(int(self.current_state[i])):\n",
    "                    if self.current_state[i + j +1] != -1:\n",
    "                        self.current_state[i] -= j\n",
    "                        break\n",
    "                next_indice = int(i + self.current_state[i]) % self.length\n",
    "                self.next_state[next_indice] = self.current_state[i]\n",
    "        self.current_state, self.next_state = self.next_state, np.zeros(self.length)       \n",
    "\n",
    "    def set_density(self, value=None):\n",
    "        '''\n",
    "        The density of cars on the road. Only affects initialization (reset) of\n",
    "        the simulation. The density must be a value between 0 and 1.\n",
    "        '''\n",
    "        if value is not None:\n",
    "            self.density = min(1, max(0, float(value)))\n",
    "        return self.density"
   ]
  },
  {
   "cell_type": "code",
   "execution_count": 16,
   "metadata": {
    "collapsed": false
   },
   "outputs": [
    {
     "name": "stdout",
     "output_type": "stream",
     "text": [
      "Initial state:\n"
     ]
    },
    {
     "data": {
      "image/png": "[encoded data removed]",
      "text/plain": [
       "<Figure size 432x288 with 1 Axes>"
      ]
     },
     "execution_count": 16,
     "metadata": {
      "image/png": {
       "height": 49,
       "width": 372
      }
     },
     "output_type": "execute_result"
    },
    {
     "name": "stdout",
     "output_type": "stream",
     "text": [
      "Next 5 states:\n"
     ]
    },
    {
     "data": {
      "image/png": "[encoded data removed]",
      "text/plain": [
       "<Figure size 432x288 with 1 Axes>"
      ]
     },
     "execution_count": 16,
     "metadata": {
      "image/png": {
       "height": 49,
       "width": 372
      }
     },
     "output_type": "execute_result"
    },
    {
     "name": "stdout",
     "output_type": "stream",
     "text": [
      "\n"
     ]
    },
    {
     "data": {
      "image/png": "[encoded data removed]",
      "text/plain": [
       "<Figure size 432x288 with 1 Axes>"
      ]
     },
     "execution_count": 16,
     "metadata": {
      "image/png": {
       "height": 49,
       "width": 372
      }
     },
     "output_type": "execute_result"
    },
    {
     "name": "stdout",
     "output_type": "stream",
     "text": [
      "\n"
     ]
    },
    {
     "data": {
      "image/png": "[encoded data removed]",
      "text/plain": [
       "<Figure size 432x288 with 1 Axes>"
      ]
     },
     "execution_count": 16,
     "metadata": {
      "image/png": {
       "height": 49,
       "width": 372
      }
     },
     "output_type": "execute_result"
    },
    {
     "name": "stdout",
     "output_type": "stream",
     "text": [
      "\n"
     ]
    },
    {
     "data": {
      "image/png": "[encoded data removed]",
      "text/plain": [
       "<Figure size 432x288 with 1 Axes>"
      ]
     },
     "execution_count": 16,
     "metadata": {
      "image/png": {
       "height": 49,
       "width": 372
      }
     },
     "output_type": "execute_result"
    },
    {
     "name": "stdout",
     "output_type": "stream",
     "text": [
      "\n"
     ]
    },
    {
     "data": {
      "image/png": "[encoded data removed]",
      "text/plain": [
       "<Figure size 432x288 with 1 Axes>"
      ]
     },
     "execution_count": 16,
     "metadata": {
      "image/png": {
       "height": 49,
       "width": 372
      }
     },
     "output_type": "execute_result"
    },
    {
     "name": "stdout",
     "output_type": "stream",
     "text": [
      "\n",
      "After 100 steps:\n"
     ]
    },
    {
     "data": {
      "image/png": "[encoded data removed]",
      "text/plain": [
       "<Figure size 432x288 with 1 Axes>"
      ]
     },
     "execution_count": 16,
     "metadata": {
      "image/png": {
       "height": 49,
       "width": 372
      }
     },
     "output_type": "execute_result"
    }
   ],
   "source": [
    "sim = TrafficSimulator(length=100, density=0.03, interactive=interactive)\n",
    "\n",
    "if interactive:\n",
    "    # Set up the interactive user interface.\n",
    "    import pycxsimulator\n",
    "    gui = pycxsimulator.GUI(parameterSetters=[sim.set_density])\n",
    "    gui.start(func=[sim.initialize, sim.draw, sim.step])\n",
    "\n",
    "else:\n",
    "    # Run the simulator for 100 steps and show some of the steps.\n",
    "    print('Initial state:')\n",
    "    sim.initialize()\n",
    "    sim.draw()\n",
    "\n",
    "    print('Next 5 states:')\n",
    "    for i in range(5):\n",
    "        sim.step()\n",
    "        sim.draw()\n",
    "        print('')\n",
    "\n",
    "    print('After 100 steps:')\n",
    "    for i in range(95):\n",
    "        sim.step()\n",
    "    sim.draw()"
   ]
  },
  {
   "cell_type": "code",
   "execution_count": 0,
   "metadata": {
    "collapsed": false
   },
   "outputs": [
   ],
   "source": [
   ]
  }
 ],
 "metadata": {
  "kernelspec": {
   "display_name": "Python 3 (system-wide)",
   "language": "python",
   "metadata": {
    "cocalc": {
     "description": "Python 3 programming language",
     "priority": 100,
     "url": "https://www.python.org/"
    }
   },
   "name": "python3"
  },
  "language_info": {
   "codemirror_mode": {
    "name": "ipython",
    "version": 3
   },
   "file_extension": ".py",
   "mimetype": "text/x-python",
   "name": "python",
   "nbconvert_exporter": "python",
   "pygments_lexer": "ipython3",
   "version": "3.6.9"
  }
 },
 "nbformat": 4,
 "nbformat_minor": 0
}