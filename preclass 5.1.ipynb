{
 "cells": [
  {
   "cell_type": "code",
   "execution_count": 1,
   "metadata": {
    "collapsed": false
   },
   "outputs": [
   ],
   "source": [
    "interactive = False  # Set this variable to True to run an interactive\n",
    "                     # simulator. This will not work on CoCalc.\n",
    "\n",
    "import matplotlib\n",
    "if interactive:\n",
    "    matplotlib.use('TkAgg')\n",
    "\n",
    "import pylab\n",
    "import random\n",
    "import numpy as np"
   ]
  },
  {
   "cell_type": "code",
   "execution_count": 9,
   "metadata": {
    "collapsed": false
   },
   "outputs": [
   ],
   "source": [
    "class TrafficSimulator(object):\n",
    "\n",
    "\n",
    "    def __init__(self, length=50, density=0.2, interactive=False, max_velocity = 5, p = 0.):\n",
    "        '''\n",
    "        Initialize new TrafficSimulator objects with the default parameter\n",
    "        settings.\n",
    "\n",
    "        Inputs:\n",
    "\n",
    "         * length (int) The number of cells in the cellular automaton.\n",
    "           Default: 50.\n",
    "\n",
    "         * density (float) The proportion of cells that will be active (contain\n",
    "           a car) when the cellular automaton is initialized. The active cells\n",
    "           will be at random locations along the length of the CA. Default: 0.2.\n",
    "\n",
    "         * interactive (bool) Whether or not we are running an interactive\n",
    "           simulation. In CoCalc we have to run in non-interactive mode (False),\n",
    "           but in your local Python environment you should be able to run in\n",
    "           interactive mode (True). Default: False.\n",
    "\n",
    "        '''\n",
    "        self.interactive = interactive\n",
    "        self.length = length\n",
    "        self.density = density\n",
    "        self.max_velocity = max_velocity\n",
    "        self.p = p\n",
    "        self.count_cars = 0\n",
    "        self.time = 0\n",
    "\n",
    "        # Arrays for storing the current state and the next state (when we are\n",
    "        # busy doing a state update).\n",
    "        self.current_state = np.zeros((2, self.length))\n",
    "        self.next_state = np.full((2, self.length), -1)\n",
    "\n",
    "    def initialize(self):\n",
    "        '''\n",
    "        This will be called by the interactive pycxsimulator whenever the Reset\n",
    "        button is clicked.\n",
    "        '''\n",
    "        # Set up a random initial state where the fraction of 1s in the array\n",
    "        # equals the density parameter.\n",
    "        random_indices = np.random.choice(\n",
    "            range(self.length * 2),\n",
    "            size=int(round(self.density * self.length * 2)),\n",
    "            replace=False)\n",
    "        self.current_state.fill(-1)\n",
    "        self.current_state[random_indices] = 0\n",
    "\n",
    "        self.count_cars = 0\n",
    "        self.time = 0\n",
    "\n",
    "    def step(self):\n",
    "        '''\n",
    "        Update the state of the cellular automaton.\n",
    "        '''\n",
    "        # Update all cells, except the boundaries.\n",
    "        for i in range(0, self.length):\n",
    "            if self.current_state[i] != -1:\n",
    "                \n",
    "                if self.current_state[i] < self.max_velocity:\n",
    "                    self.current_state[i] += 1\n",
    "                \n",
    "                \n",
    "                for j in range(int(self.current_state[i])):\n",
    "                    if self.current_state[(i + j +1)%self.length] != -1:\n",
    "                        self.current_state[i] = j\n",
    "                        break\n",
    "                        \n",
    "                if self.current_state[i] >= 1 and random.random() <= self.p:\n",
    "                    self.current_state[i] -= 1\n",
    "                    \n",
    "                next_indice = int(i + self.current_state[i]) % self.length\n",
    "                self.next_state[next_indice] = self.current_state[i]\n",
    "                self.current_state\n",
    "                if i + self.current_state[i] > self.length:\n",
    "                    self.count_cars += 1\n",
    "        \n",
    "        self.current_state, self.next_state = self.next_state, np.full(self.length, -1)\n",
    "        self.time += 1\n",
    "\n",
    "    def set_density(self, value=None):\n",
    "        '''\n",
    "        The density of cars on the road. Only affects initialization (reset) of\n",
    "        the simulation. The density must be a value between 0 and 1.\n",
    "        '''\n",
    "        if value is not None:\n",
    "            self.density = min(1, max(0, float(value)))\n",
    "        return self.density\n",
    "    \n",
    "    def display(self):\n",
    "        print(''.join('.' if x == -1 else str(int(x)) for x in self.current_state))"
   ]
  },
  {
   "cell_type": "code",
   "execution_count": 10,
   "metadata": {
    "collapsed": false
   },
   "outputs": [
    {
     "name": "stdout",
     "output_type": "stream",
     "text": [
      "Initial state:\n"
     ]
    },
    {
     "ename": "IndexError",
     "evalue": "index 169 is out of bounds for axis 0 with size 2",
     "output_type": "error",
     "traceback": [
      "\u001b[0;31m---------------------------------------------------------------------------\u001b[0m",
      "\u001b[0;31mIndexError\u001b[0m                                Traceback (most recent call last)",
      "\u001b[0;32m<ipython-input-10-42d9d8c76516>\u001b[0m in \u001b[0;36m<module>\u001b[0;34m\u001b[0m\n\u001b[1;32m     10\u001b[0m     \u001b[0;31m# Run the simulator for 100 steps and show some of the steps.\u001b[0m\u001b[0;34m\u001b[0m\u001b[0;34m\u001b[0m\u001b[0;34m\u001b[0m\u001b[0m\n\u001b[1;32m     11\u001b[0m     \u001b[0mprint\u001b[0m\u001b[0;34m(\u001b[0m\u001b[0;34m'Initial state:'\u001b[0m\u001b[0;34m)\u001b[0m\u001b[0;34m\u001b[0m\u001b[0;34m\u001b[0m\u001b[0m\n\u001b[0;32m---> 12\u001b[0;31m     \u001b[0msim\u001b[0m\u001b[0;34m.\u001b[0m\u001b[0minitialize\u001b[0m\u001b[0;34m(\u001b[0m\u001b[0;34m)\u001b[0m\u001b[0;34m\u001b[0m\u001b[0;34m\u001b[0m\u001b[0m\n\u001b[0m\u001b[1;32m     13\u001b[0m     \u001b[0msim\u001b[0m\u001b[0;34m.\u001b[0m\u001b[0mdisplay\u001b[0m\u001b[0;34m(\u001b[0m\u001b[0;34m)\u001b[0m\u001b[0;34m\u001b[0m\u001b[0;34m\u001b[0m\u001b[0m\n\u001b[1;32m     14\u001b[0m \u001b[0;34m\u001b[0m\u001b[0m\n",
      "\u001b[0;32m<ipython-input-9-eb09c48be034>\u001b[0m in \u001b[0;36minitialize\u001b[0;34m(self)\u001b[0m\n\u001b[1;32m     47\u001b[0m             replace=False)\n\u001b[1;32m     48\u001b[0m         \u001b[0mself\u001b[0m\u001b[0;34m.\u001b[0m\u001b[0mcurrent_state\u001b[0m\u001b[0;34m.\u001b[0m\u001b[0mfill\u001b[0m\u001b[0;34m(\u001b[0m\u001b[0;34m-\u001b[0m\u001b[0;36m1\u001b[0m\u001b[0;34m)\u001b[0m\u001b[0;34m\u001b[0m\u001b[0;34m\u001b[0m\u001b[0m\n\u001b[0;32m---> 49\u001b[0;31m         \u001b[0mself\u001b[0m\u001b[0;34m.\u001b[0m\u001b[0mcurrent_state\u001b[0m\u001b[0;34m[\u001b[0m\u001b[0mrandom_indices\u001b[0m\u001b[0;34m]\u001b[0m \u001b[0;34m=\u001b[0m \u001b[0;36m0\u001b[0m\u001b[0;34m\u001b[0m\u001b[0;34m\u001b[0m\u001b[0m\n\u001b[0m\u001b[1;32m     50\u001b[0m \u001b[0;34m\u001b[0m\u001b[0m\n\u001b[1;32m     51\u001b[0m         \u001b[0mself\u001b[0m\u001b[0;34m.\u001b[0m\u001b[0mcount_cars\u001b[0m \u001b[0;34m=\u001b[0m \u001b[0;36m0\u001b[0m\u001b[0;34m\u001b[0m\u001b[0;34m\u001b[0m\u001b[0m\n",
      "\u001b[0;31mIndexError\u001b[0m: index 169 is out of bounds for axis 0 with size 2"
     ]
    }
   ],
   "source": [
    "sim = TrafficSimulator(length=100, density=0.13, interactive=interactive, p=0.5)\n",
    "\n",
    "if interactive:\n",
    "    # Set up the interactive user interface.\n",
    "    import pycxsimulator\n",
    "    gui = pycxsimulator.GUI(parameterSetters=[sim.set_density])\n",
    "    gui.start(func=[sim.initialize, sim.draw, sim.step])\n",
    "\n",
    "else:\n",
    "    # Run the simulator for 100 steps and show some of the steps.\n",
    "    print('Initial state:')\n",
    "    sim.initialize()\n",
    "    sim.display()\n",
    "\n",
    "    print('Next 5 states:')\n",
    "    for i in range(5):\n",
    "        sim.step()\n",
    "        sim.display()\n",
    "        print('')\n",
    "\n",
    "    print('After 100 steps:')\n",
    "    for i in range(95):\n",
    "        sim.step()\n",
    "    sim.display()"
   ]
  },
  {
   "cell_type": "code",
   "execution_count": 4,
   "metadata": {
    "collapsed": false
   },
   "outputs": [
    {
     "data": {
      "text/plain": [
       "array([[0., 0., 0.],\n",
       "       [0., 0., 0.]])"
      ]
     },
     "execution_count": 4,
     "metadata": {
     },
     "output_type": "execute_result"
    }
   ],
   "source": [
    "np.zeros((2, 3))"
   ]
  },
  {
   "cell_type": "code",
   "execution_count": 0,
   "metadata": {
    "collapsed": false
   },
   "outputs": [
   ],
   "source": [
   ]
  }
 ],
 "metadata": {
  "kernelspec": {
   "display_name": "Python 3 (system-wide)",
   "language": "python",
   "metadata": {
    "cocalc": {
     "description": "Python 3 programming language",
     "priority": 100,
     "url": "https://www.python.org/"
    }
   },
   "name": "python3"
  },
  "language_info": {
   "codemirror_mode": {
    "name": "ipython",
    "version": 3
   },
   "file_extension": ".py",
   "mimetype": "text/x-python",
   "name": "python",
   "nbconvert_exporter": "python",
   "pygments_lexer": "ipython3",
   "version": "3.6.9"
  }
 },
 "nbformat": 4,
 "nbformat_minor": 0
}