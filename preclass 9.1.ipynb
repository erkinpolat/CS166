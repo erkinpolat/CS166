{
 "cells": [
  {
   "cell_type": "code",
   "execution_count": 33,
   "metadata": {
    "collapsed": false
   },
   "outputs": [
   ],
   "source": [
    "import matplotlib\n",
    "matplotlib.use('TkAgg')\n",
    "from pylab import *\n",
    "import networkx as nx\n",
    "import random as rd\n",
    "\n",
    "def initialize():\n",
    "    global g\n",
    "    g = nx.karate_club_graph()\n",
    "    g.pos = nx.spring_layout(g)\n",
    "    for i in g.nodes:\n",
    "        g.nodes[i]['state'] = 1 if random() < .5 else 0\n",
    "\n",
    "def observe():\n",
    "    global g\n",
    "    cla()\n",
    "    nx.draw(g, vmin = 0, vmax = 1,\n",
    "            node_color = [g.nodes[i]['state'] for i in g.nodes],\n",
    "            pos = g.pos)\n",
    "\n",
    "def update():\n",
    "    global g\n",
    "    for a in list(g.nodes):\n",
    "        if g.nodes[a]['state'] == 0: # if susceptible\n",
    "            for b in list(g.neighbors(a)):\n",
    "                if g.nodes[b]['state'] == 1: # if neighbor b is infected\n",
    "                    g.nodes[a]['state'] = 1 if random() < p_i else 0\n",
    "        else: # if infected\n",
    "            g.nodes[a]['state'] = 0 if random() < p_r else 1"
   ]
  },
  {
   "cell_type": "markdown",
   "metadata": {
    "collapsed": false
   },
   "source": [
    "• n=100,pe =0.1,pi =0.5,pr =0.5(pr <(n−1)pepi)\n",
    "• n=100,pe =0.1,pi =0.04,pr =0.5(pr >(n−1)pepi) \n",
    "• n=200,pe =0.1,pi =0.04,pr =0.5(pr <(n−1)pepi) \n",
    "• n=200,pe =0.05,pi =0.04,pr =0.5(pr >(n−1)pepi)"
   ]
  },
  {
   "cell_type": "code",
   "execution_count": 34,
   "metadata": {
    "collapsed": false
   },
   "outputs": [
    {
     "data": {
      "text/plain": [
       "4.588235294117647"
      ]
     },
     "execution_count": 34,
     "metadata": {
     },
     "output_type": "execute_result"
    }
   ],
   "source": [
    "n = 100\n",
    "p_e = 0.1\n",
    "p_i = 0.5\n",
    "p_r = 0.5\n",
    "\n",
    "initialize()\n",
    "\n",
    "for i in range(100):\n",
    "    update()\n",
    "    \n",
    "average_degree(g)"
   ]
  },
  {
   "cell_type": "code",
   "execution_count": 35,
   "metadata": {
    "collapsed": false
   },
   "outputs": [
    {
     "data": {
      "text/plain": [
       "4.588235294117647"
      ]
     },
     "execution_count": 35,
     "metadata": {
     },
     "output_type": "execute_result"
    }
   ],
   "source": [
    "n = 100\n",
    "p_e = 0.1\n",
    "p_i = 0.04\n",
    "p_r = 0.5\n",
    "\n",
    "initialize()\n",
    "\n",
    "for i in range(100):\n",
    "    update()\n",
    "    \n",
    "average_degree(g)"
   ]
  },
  {
   "cell_type": "code",
   "execution_count": 36,
   "metadata": {
    "collapsed": false
   },
   "outputs": [
    {
     "data": {
      "text/plain": [
       "4.588235294117647"
      ]
     },
     "execution_count": 36,
     "metadata": {
     },
     "output_type": "execute_result"
    }
   ],
   "source": [
    "n = 200\n",
    "p_e = 0.1\n",
    "p_i = 0.04\n",
    "p_r = 0.5\n",
    "\n",
    "initialize()\n",
    "\n",
    "for i in range(100):\n",
    "    update()\n",
    "    \n",
    "average_degree(g)"
   ]
  },
  {
   "cell_type": "code",
   "execution_count": 37,
   "metadata": {
    "collapsed": false
   },
   "outputs": [
    {
     "data": {
      "text/plain": [
       "4.588235294117647"
      ]
     },
     "execution_count": 37,
     "metadata": {
     },
     "output_type": "execute_result"
    }
   ],
   "source": [
    "n = 200\n",
    "p_e = 0.05\n",
    "p_i = 0.04\n",
    "p_r = 0.5\n",
    "\n",
    "initialize()\n",
    "\n",
    "for i in range(100):\n",
    "    update()\n",
    "    \n",
    "average_degree(g)"
   ]
  },
  {
   "cell_type": "markdown",
   "metadata": {
    "collapsed": false
   },
   "source": [
    "Q2"
   ]
  },
  {
   "cell_type": "code",
   "execution_count": 38,
   "metadata": {
    "collapsed": false
   },
   "outputs": [
   ],
   "source": [
    "\n",
    "er = nx.erdos_renyi_graph(1000, 0.04)\n",
    "ws = nx.watts_strogatz_graph(1000,40,0.1)\n",
    "ba = nx.barabasi_albert_graph(1000,20)"
   ]
  },
  {
   "cell_type": "code",
   "execution_count": 39,
   "metadata": {
    "collapsed": false
   },
   "outputs": [
   ],
   "source": [
    "def average_degree(g):\n",
    "    return 2*len(list(g.edges))/len(list(g.nodes))"
   ]
  },
  {
   "cell_type": "code",
   "execution_count": 40,
   "metadata": {
    "collapsed": false
   },
   "outputs": [
    {
     "name": "stdout",
     "output_type": "stream",
     "text": [
      "39.662\n",
      "40.0\n",
      "39.2\n"
     ]
    }
   ],
   "source": [
    "print(average_degree(er))\n",
    "print(average_degree(ws))\n",
    "print(average_degree(ba))"
   ]
  },
  {
   "cell_type": "markdown",
   "metadata": {
    "collapsed": false
   },
   "source": [
    "Question: This actually got me confusing. Because I think the average degree of the graph would actuaally be everybody withon a friend group or a comunity instead of just one person's friends."
   ]
  },
  {
   "cell_type": "code",
   "execution_count": 41,
   "metadata": {
    "collapsed": false
   },
   "outputs": [
   ],
   "source": [
    "def average_neighbor(g):\n",
    "    node_count = 0\n",
    "    deg_count = 0\n",
    "    for edge in g.edges():\n",
    "        for neighbor in edge:\n",
    "            deg_count += len(g.edges(neighbor))\n",
    "            node_count += 1\n",
    "    return deg_count/node_count"
   ]
  },
  {
   "cell_type": "code",
   "execution_count": 42,
   "metadata": {
    "collapsed": false
   },
   "outputs": [
    {
     "name": "stdout",
     "output_type": "stream",
     "text": [
      "40.57803439060058\n"
     ]
    },
    {
     "name": "stdout",
     "output_type": "stream",
     "text": [
      "40.09385\n"
     ]
    },
    {
     "name": "stdout",
     "output_type": "stream",
     "text": [
      "63.23239795918367\n"
     ]
    }
   ],
   "source": [
    "print(average_neighbor(er))\n",
    "print(average_neighbor(ws))\n",
    "print(average_neighbor(ba))"
   ]
  },
  {
   "cell_type": "code",
   "execution_count": 0,
   "metadata": {
    "collapsed": false
   },
   "outputs": [
   ],
   "source": [
   ]
  }
 ],
 "metadata": {
  "kernelspec": {
   "display_name": "Python 3 (system-wide)",
   "language": "python",
   "metadata": {
    "cocalc": {
     "description": "Python 3 programming language",
     "priority": 100,
     "url": "https://www.python.org/"
    }
   },
   "name": "python3"
  },
  "language_info": {
   "codemirror_mode": {
    "name": "ipython",
    "version": 3
   },
   "file_extension": ".py",
   "mimetype": "text/x-python",
   "name": "python",
   "nbconvert_exporter": "python",
   "pygments_lexer": "ipython3",
   "version": "3.6.9"
  }
 },
 "nbformat": 4,
 "nbformat_minor": 0
}